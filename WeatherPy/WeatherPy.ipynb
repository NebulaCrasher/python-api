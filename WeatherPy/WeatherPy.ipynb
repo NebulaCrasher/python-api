{
 "cells": [
  {
   "cell_type": "markdown",
   "metadata": {},
   "source": [
    "# WeatherPy\n",
    "----\n",
    "\n",
    "#### Note\n",
    "* Instructions have been included for each segment. You do not have to follow them exactly, but they are included to help you think through the steps."
   ]
  },
  {
   "cell_type": "code",
   "execution_count": null,
   "metadata": {
    "scrolled": true
   },
   "outputs": [],
   "source": [
    "# Dependencies and Setup\n",
    "import matplotlib.pyplot as plt\n",
    "import pandas as pd\n",
    "import numpy as np\n",
    "import requests\n",
    "import time\n",
    "from scipy.stats import linregress\n",
    "import pprint\n",
    "# Import API key\n",
    "from api_keys import weather_api_key\n",
    "\n",
    "# Incorporated citipy to determine city based on latitude and longitude\n",
    "from citipy import citipy\n",
    "\n",
    "# Output File (CSV)\n",
    "output_data_file = \"output_data/cities.csv\"\n",
    "\n",
    "# Range of latitudes and longitudes\n",
    "lat_range = (-90, 90)\n",
    "lng_range = (-180, 180)"
   ]
  },
  {
   "cell_type": "markdown",
   "metadata": {},
   "source": [
    "## Generate Cities List"
   ]
  },
  {
   "cell_type": "code",
   "execution_count": null,
   "metadata": {},
   "outputs": [],
   "source": [
    "# List for holding lat_lngs and cities\n",
    "lat_lngs = []\n",
    "cities = []\n",
    "\n",
    "# Create a set of random lat and lng combinations\n",
    "lats = np.random.uniform(lat_range[0], lat_range[1], size=1500)\n",
    "lngs = np.random.uniform(lng_range[0], lng_range[1], size=1500)\n",
    "lat_lngs = zip(lats, lngs)\n",
    "\n",
    "# Identify nearest city for each lat, lng combination\n",
    "for lat_lng in lat_lngs:\n",
    "    city = citipy.nearest_city(lat_lng[0], lat_lng[1]).city_name\n",
    "   \n",
    "    # If the city is unique, then add it to a our cities list\n",
    "    if city not in cities:\n",
    "        cities.append(city)\n",
    "\n",
    "# Print the city count to confirm sufficient count\n",
    "len(cities)"
   ]
  },
  {
   "cell_type": "markdown",
   "metadata": {},
   "source": [
    "### Perform API Calls\n",
    "* Perform a weather check on each city using a series of successive API calls.\n",
    "* Include a print log of each city as it'sbeing processed (with the city number and city name).\n"
   ]
  },
  {
   "cell_type": "code",
   "execution_count": null,
   "metadata": {
    "scrolled": true
   },
   "outputs": [],
   "source": [
    "city_df = pd.DataFrame()\n",
    "number = 1\n",
    "temp =[]\n",
    "humidity = []\n",
    "cloudiness = []\n",
    "wind_speed = []\n",
    "names = []\n",
    "lat = []\n",
    "lng = []\n",
    "country = []\n",
    "for city in cities:\n",
    "    try:\n",
    "        base_url = f\"https://api.openweathermap.org/data/2.5/weather?q={city}&appid={weather_api_key}&units=Imperial\"\n",
    "        response = requests.get(base_url).json()\n",
    "        name = response[\"name\"]\n",
    "        names.append(response[\"name\"])\n",
    "        temp.append(response[\"main\"][\"temp\"])\n",
    "        cloudiness.append(response[\"clouds\"][\"all\"])\n",
    "        humidity.append(response[\"main\"][\"humidity\"])\n",
    "        wind_speed.append(response[\"wind\"][\"speed\"])\n",
    "        lat.append(response[\"coord\"][\"lat\"])\n",
    "        lng.append(response[\"coord\"][\"lon\"])\n",
    "        country.append(response[\"sys\"][\"country\"])\n",
    "        print(f\"Current City is #{number} and its name is {name}\")\n",
    "        number += 1\n",
    "    except:\n",
    "        print(\"City not found; skipping record\")"
   ]
  },
  {
   "cell_type": "markdown",
   "metadata": {},
   "source": [
    "### Convert Raw Data to DataFrame\n",
    "* Export the city data into a .csv.\n",
    "* Display the DataFrame"
   ]
  },
  {
   "cell_type": "code",
   "execution_count": null,
   "metadata": {},
   "outputs": [],
   "source": [
    "city_df[\"City\"] = names\n",
    "city_df[\"Temp(F)\"] = temp\n",
    "city_df[\"Cloudiness\"] = cloudiness\n",
    "city_df[\"Humidity\"] = humidity\n",
    "city_df[\"Wind Speed (mph)\"] = wind_speed\n",
    "city_df[\"Latitude\"] = lat\n",
    "city_df[\"Longitude\"] = lng\n",
    "city_df[\"Country\"] = country\n",
    "city_df.to_csv(\"city.csv\")\n",
    "city_df"
   ]
  },
  {
   "cell_type": "markdown",
   "metadata": {},
   "source": [
    "## Inspect the data and remove the cities where the humidity > 100%.\n",
    "----\n",
    "Skip this step if there are no cities that have humidity > 100%. "
   ]
  },
  {
   "cell_type": "code",
   "execution_count": null,
   "metadata": {},
   "outputs": [],
   "source": [
    "clean_city_df = city_df[city_df[\"Humidity\"] < 100]\n",
    "clean_city_df"
   ]
  },
  {
   "cell_type": "markdown",
   "metadata": {},
   "source": [
    "## Plotting the Data\n",
    "* Use proper labeling of the plots using plot titles (including date of analysis) and axes labels.\n",
    "* Save the plotted figures as .pngs."
   ]
  },
  {
   "cell_type": "markdown",
   "metadata": {},
   "source": [
    "## Latitude vs. Temperature Plot"
   ]
  },
  {
   "cell_type": "code",
   "execution_count": null,
   "metadata": {
    "scrolled": true
   },
   "outputs": [],
   "source": [
    "clean_city_df.plot.scatter( x = \"Latitude\", y = \"Temp(F)\", title = \"Latitude v Temperature Graph as of 10/08/22\")\n",
    "plt.savefig(\"Graphs/Latitude_vs_Temperature\")"
   ]
  },
  {
   "cell_type": "markdown",
   "metadata": {},
   "source": [
    "## Latitude vs Temperature\n",
    "This graph analyzes how temperature varies with latitude. From the data points, cities at the equator (latitude = 0) are clearly higher in temperature than other cities at either end of the North/South."
   ]
  },
  {
   "cell_type": "markdown",
   "metadata": {},
   "source": [
    "## Latitude vs. Humidity Plot"
   ]
  },
  {
   "cell_type": "code",
   "execution_count": null,
   "metadata": {},
   "outputs": [],
   "source": [
    "clean_city_df.plot.scatter( x = \"Latitude\", y = \"Humidity\", title = \"Latitude v Humidity Graph as of 10/08/22\")\n",
    "plt.savefig(\"Graphs/Latitude_vs_Humidity\")"
   ]
  },
  {
   "cell_type": "markdown",
   "metadata": {},
   "source": [
    "## Latitude vs Humidity\n",
    "This scatter plot is analyzing the humidity levels of cities with varying latitudes. Humidity seems relatively well distributed for cities not located near the equator. Cities that are near the equator tend to be pretty humid with indexes generally above 60."
   ]
  },
  {
   "cell_type": "markdown",
   "metadata": {},
   "source": [
    "## Latitude vs. Cloudiness Plot"
   ]
  },
  {
   "cell_type": "code",
   "execution_count": null,
   "metadata": {},
   "outputs": [],
   "source": [
    "clean_city_df.plot.scatter( x = \"Latitude\", y = \"Cloudiness\", title = \"Latitude v Cloudiness Graph as of 10/08/22\")\n",
    "plt.savefig(\"Graphs/Latitude_vs_Cloudiness\")"
   ]
  },
  {
   "cell_type": "markdown",
   "metadata": {},
   "source": [
    "## Latitude vs Cloudiness\n",
    "This graph is much different than the previous graphs as cloudiness on a given day is not really a continuous value. There seems to be more cities with overcast skies with cloudiness value 100 as there are cities with clear skies at cloudiness value 0. "
   ]
  },
  {
   "cell_type": "markdown",
   "metadata": {},
   "source": [
    "## Latitude vs. Wind Speed Plot"
   ]
  },
  {
   "cell_type": "code",
   "execution_count": null,
   "metadata": {},
   "outputs": [],
   "source": [
    "clean_city_df.plot.scatter( x = \"Latitude\", y = \"Wind Speed (mph)\", title = \"Latitude v Wind Speed Graph as of 10/08/22\")\n",
    "plt.savefig(\"Graphs/Latitude_vs_Wind_Speed\")"
   ]
  },
  {
   "cell_type": "markdown",
   "metadata": {},
   "source": [
    "## Latitude vs Wind Speed\n",
    "This graph makes sense considering most cities should not have wind speeds over 15 mph on a given day. Cities trend towards being within the 0-15 mph wind speed range with a few outliers being above that regardless of latitude. "
   ]
  },
  {
   "cell_type": "markdown",
   "metadata": {},
   "source": [
    "## Linear Regression"
   ]
  },
  {
   "cell_type": "code",
   "execution_count": null,
   "metadata": {},
   "outputs": [],
   "source": [
    "#Separating Northern/Souther Hemisphers\n",
    "north_lat_df = clean_city_df[clean_city_df[\"Latitude\"] > 0]\n",
    "south_lat_df = clean_city_df[clean_city_df[\"Latitude\"] < 0]\n"
   ]
  },
  {
   "cell_type": "markdown",
   "metadata": {},
   "source": [
    "####  Northern Hemisphere - Temp vs. Latitude Linear Regression"
   ]
  },
  {
   "cell_type": "code",
   "execution_count": null,
   "metadata": {},
   "outputs": [],
   "source": [
    "north_lat_temp = linregress(north_lat_df[\"Latitude\"],north_lat_df[\"Temp(F)\"])\n",
    "north_lat_df.plot.scatter(x =\"Latitude\", y = \"Temp(F)\", title = \"Northern Hemisphere Latitude vs Temp\")\n",
    "plt.plot(north_lat_df[\"Latitude\"], north_lat_temp.intercept + north_lat_temp.slope*north_lat_df[\"Latitude\"], 'r', label='fitted line')\n",
    "plt.legend()\n",
    "plt.savefig(\"Graphs/Northern_Latitude_vs_Temperature\")"
   ]
  },
  {
   "cell_type": "markdown",
   "metadata": {},
   "source": [
    "## Northern Hemisphere Temperature Max\n",
    "Reinforcing our idea that temperatures are hotter around the equator, this graph clearly displays that as one moves further up north cities tend to have lower and lower temperatures."
   ]
  },
  {
   "cell_type": "markdown",
   "metadata": {},
   "source": [
    "####  Southern Hemisphere - Temp vs. Latitude Linear Regression"
   ]
  },
  {
   "cell_type": "code",
   "execution_count": null,
   "metadata": {},
   "outputs": [],
   "source": [
    "south_lat_temp = linregress(south_lat_df[\"Latitude\"],south_lat_df[\"Temp(F)\"])\n",
    "south_lat_df.plot.scatter(x =\"Latitude\", y = \"Temp(F)\", title = \"Southern Hemisphere Latitude vs Temp\")\n",
    "plt.plot(south_lat_df[\"Latitude\"], south_lat_temp.intercept + south_lat_temp.slope*south_lat_df[\"Latitude\"], 'r', label='fitted line')\n",
    "plt.legend()\n",
    "plt.savefig(\"Graphs/Southern_Latitude_vs_Temperature\")\n"
   ]
  },
  {
   "cell_type": "markdown",
   "metadata": {},
   "source": [
    "## Southern Hemisphere Temperature\n",
    "Per the fitted line, as one moves closer to the equator there is a steady increase in temperature."
   ]
  },
  {
   "cell_type": "markdown",
   "metadata": {},
   "source": [
    "####  Northern Hemisphere - Humidity (%) vs. Latitude Linear Regression"
   ]
  },
  {
   "cell_type": "code",
   "execution_count": null,
   "metadata": {},
   "outputs": [],
   "source": [
    "north_lat_humidity  = linregress(north_lat_df[\"Latitude\"],north_lat_df[\"Humidity\"])\n",
    "north_lat_df.plot.scatter(x =\"Latitude\", y = \"Humidity\", title = \"Northern Hemisphere Latitude vs Humidity\")\n",
    "plt.plot(north_lat_df[\"Latitude\"], north_lat_humidity.intercept + north_lat_humidity.slope*north_lat_df[\"Latitude\"], 'r', label='fitted line')\n",
    "plt.legend()\n",
    "plt.savefig(\"Graphs/Northern_Latitude_vs_Humidity\")"
   ]
  },
  {
   "cell_type": "markdown",
   "metadata": {},
   "source": [
    "## Northern Hemisphere Humidity\n",
    "Northern Hemisphere cities on average are more humid than Southern cities based on the fitted line and amount of data points above 80 humidity index."
   ]
  },
  {
   "cell_type": "markdown",
   "metadata": {},
   "source": [
    "####  Southern Hemisphere - Humidity (%) vs. Latitude Linear Regression"
   ]
  },
  {
   "cell_type": "code",
   "execution_count": null,
   "metadata": {},
   "outputs": [],
   "source": [
    "south_lat_humidity  = linregress(south_lat_df[\"Latitude\"],south_lat_df[\"Humidity\"])\n",
    "south_lat_df.plot.scatter(x =\"Latitude\", y = \"Humidity\", title = \"Southern Hemisphere Latitude vs Humidity\")\n",
    "plt.plot(south_lat_df[\"Latitude\"], south_lat_humidity.intercept + south_lat_humidity.slope*south_lat_df[\"Latitude\"], 'r', label='fitted line')\n",
    "plt.legend()\n",
    "plt.savefig(\"Graphs/Southern_Latitude_vs_Humidity\")"
   ]
  },
  {
   "cell_type": "markdown",
   "metadata": {},
   "source": [
    "## Southern Hemisphere Humidity\n",
    "Cities closer to the equator tend to be more humid according to the fitted line."
   ]
  },
  {
   "cell_type": "markdown",
   "metadata": {},
   "source": [
    "####  Northern Hemisphere - Cloudiness (%) vs. Latitude Linear Regression"
   ]
  },
  {
   "cell_type": "code",
   "execution_count": null,
   "metadata": {},
   "outputs": [],
   "source": [
    "north_lat_cloud  = linregress(north_lat_df[\"Latitude\"],north_lat_df[\"Cloudiness\"])\n",
    "north_lat_df.plot.scatter(x =\"Latitude\", y = \"Cloudiness\", title = \"Northern Hemisphere Latitude vs Cloudiness\")\n",
    "plt.plot(north_lat_df[\"Latitude\"], north_lat_cloud.intercept + north_lat_cloud.slope*north_lat_df[\"Latitude\"], 'r', label='fitted line')\n",
    "plt.legend()\n",
    "plt.savefig(\"Graphs/Northern_Latitude_vs_Cloudiness\")"
   ]
  },
  {
   "cell_type": "markdown",
   "metadata": {},
   "source": [
    "## Northern Hemisphere Cloudiness\n",
    "Cities located further north tend to be more cloudy based on fitted line."
   ]
  },
  {
   "cell_type": "markdown",
   "metadata": {},
   "source": [
    "####  Southern Hemisphere - Cloudiness (%) vs. Latitude Linear Regression"
   ]
  },
  {
   "cell_type": "code",
   "execution_count": null,
   "metadata": {},
   "outputs": [],
   "source": [
    "south_lat_cloud  = linregress(south_lat_df[\"Latitude\"],south_lat_df[\"Cloudiness\"])\n",
    "south_lat_df.plot.scatter(x =\"Latitude\", y = \"Cloudiness\", title = \"Southern Hemisphere Latitude vs Cloudiness\")\n",
    "plt.plot(south_lat_df[\"Latitude\"], south_lat_cloud.intercept + south_lat_cloud.slope*south_lat_df[\"Latitude\"], 'r', label='fitted line')\n",
    "plt.legend()\n",
    "plt.savefig(\"Graphs/Southern_Latitude_vs_Cloudiness\")"
   ]
  },
  {
   "cell_type": "markdown",
   "metadata": {},
   "source": [
    "## Southern Hemisphere Cloudiness\n",
    "With the data set generated, as one moves closer to the equator from the south cloudiness tends to increase."
   ]
  },
  {
   "cell_type": "markdown",
   "metadata": {},
   "source": [
    "####  Northern Hemisphere - Wind Speed (mph) vs. Latitude Linear Regression"
   ]
  },
  {
   "cell_type": "code",
   "execution_count": null,
   "metadata": {},
   "outputs": [],
   "source": [
    "north_lat_wind = linregress(north_lat_df[\"Latitude\"],north_lat_df[\"Wind Speed (mph)\"])\n",
    "north_lat_df.plot.scatter(x =\"Latitude\", y = \"Wind Speed (mph)\", title = \"Northern Hemisphere Latitude vs Wind Speed\")\n",
    "plt.plot(north_lat_df[\"Latitude\"], north_lat_wind.intercept + north_lat_wind.slope*north_lat_df[\"Latitude\"], 'r', label='fitted line')\n",
    "plt.legend()\n",
    "plt.savefig(\"Graphs/Northern_Latitude_vs_Wind_Speed\")\n"
   ]
  },
  {
   "cell_type": "markdown",
   "metadata": {},
   "source": [
    "## Northern Hemisphere Wind Speed \n",
    "Data graphs northern hemisphere cities vs wind speed. Fitted line shows that most cities lie beneath 10 mph wind speeds with wind speed increasing slightly as latitude increases."
   ]
  },
  {
   "cell_type": "markdown",
   "metadata": {},
   "source": [
    "####  Southern Hemisphere - Wind Speed (mph) vs. Latitude Linear Regression"
   ]
  },
  {
   "cell_type": "code",
   "execution_count": null,
   "metadata": {},
   "outputs": [],
   "source": [
    "south_lat_wind = linregress(south_lat_df[\"Latitude\"],south_lat_df[\"Wind Speed (mph)\"])\n",
    "south_lat_df.plot.scatter(x =\"Latitude\", y = \"Wind Speed (mph)\", title = \"Southern Hemisphere Latitude vs Wind Speed\")\n",
    "plt.plot(south_lat_df[\"Latitude\"], south_lat_wind.intercept + south_lat_wind.slope*south_lat_df[\"Latitude\"], 'r', label='fitted line')\n",
    "plt.legend()\n",
    "plt.savefig(\"Graphs/Southern_Latitude_vs_Wind_Speed\")"
   ]
  },
  {
   "cell_type": "markdown",
   "metadata": {},
   "source": [
    "## Southern Hemisphere Latitude vs Wind Speed\n",
    "Southern Hemisphere cities and the wind speeds of those cities. The fitted line states that most of the data points lie below the 10 MPH mark. There's only a slight decrease of wind speeds as latitudes get closer to the equator at the 0 latitude mark. From the data points randomly generated by our second block of code, there seems to be more Northern Hemisphere cities in the data set than Southern Hemisphere cities."
   ]
  }
 ],
 "metadata": {
  "anaconda-cloud": {},
  "kernel_info": {
   "name": "python3"
  },
  "kernelspec": {
   "display_name": "Python 3.8.13 ('PythonData38')",
   "language": "python",
   "name": "python3"
  },
  "language_info": {
   "codemirror_mode": {
    "name": "ipython",
    "version": 3
   },
   "file_extension": ".py",
   "mimetype": "text/x-python",
   "name": "python",
   "nbconvert_exporter": "python",
   "pygments_lexer": "ipython3",
   "version": "3.8.13"
  },
  "latex_envs": {
   "LaTeX_envs_menu_present": true,
   "autoclose": false,
   "autocomplete": true,
   "bibliofile": "biblio.bib",
   "cite_by": "apalike",
   "current_citInitial": 1,
   "eqLabelWithNumbers": true,
   "eqNumInitial": 1,
   "hotkeys": {
    "equation": "Ctrl-E",
    "itemize": "Ctrl-I"
   },
   "labels_anchors": false,
   "latex_user_defs": false,
   "report_style_numbering": false,
   "user_envs_cfg": false
  },
  "nteract": {
   "version": "0.12.3"
  },
  "vscode": {
   "interpreter": {
    "hash": "23d1e4805d2de03fc649bab6e2e80d96d2dc4ec47b4d8a930226d29b30b31090"
   }
  }
 },
 "nbformat": 4,
 "nbformat_minor": 2
}
