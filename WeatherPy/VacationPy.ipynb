{
 "cells": [
  {
   "cell_type": "markdown",
   "metadata": {},
   "source": [
    "# VacationPy\n",
    "----\n",
    "\n",
    "#### Note\n",
    "* Keep an eye on your API usage. Use https://developers.google.com/maps/reporting/gmp-reporting as reference for how to monitor your usage and billing.\n",
    "\n",
    "* Instructions have been included for each segment. You do not have to follow them exactly, but they are included to help you think through the steps."
   ]
  },
  {
   "cell_type": "code",
   "execution_count": null,
   "metadata": {},
   "outputs": [],
   "source": [
    "# Dependencies and Setup\n",
    "import matplotlib.pyplot as plt\n",
    "import pandas as pd\n",
    "import numpy as np\n",
    "import requests\n",
    "import gmaps\n",
    "import os\n",
    "import pprint\n",
    "# Import API key\n",
    "from api_keys import g_key"
   ]
  },
  {
   "cell_type": "markdown",
   "metadata": {},
   "source": [
    "### Store Part I results into DataFrame\n",
    "* Load the csv exported in Part I to a DataFrame"
   ]
  },
  {
   "cell_type": "code",
   "execution_count": null,
   "metadata": {},
   "outputs": [],
   "source": [
    "\n",
    "city_reader = pd.read_csv(\"city.csv\")\n",
    "temp_city_df = pd.DataFrame(city_reader)\n",
    "city_df = temp_city_df[[\"City\", \"Temp(F)\", \"Cloudiness\", \"Humidity\", \"Wind Speed (mph)\", \"Latitude\", \"Longitude\",\"Country\"]]\n",
    "clean_city_df = city_df[city_df[\"Humidity\"] < 100]\n",
    "clean_city_df"
   ]
  },
  {
   "cell_type": "markdown",
   "metadata": {},
   "source": [
    "### Humidity Heatmap\n",
    "* Configure gmaps.\n",
    "* Use the Lat and Lng as locations and Humidity as the weight.\n",
    "* Add Heatmap layer to map."
   ]
  },
  {
   "cell_type": "code",
   "execution_count": null,
   "metadata": {},
   "outputs": [],
   "source": [
    "from bleach import clean\n",
    "\n",
    "\n",
    "gmaps.configure(api_key= g_key)\n",
    "fig = gmaps.figure()\n",
    "locations = clean_city_df[[\"Latitude\",\"Longitude\"]]\n",
    "\n",
    "weights = clean_city_df[\"Humidity\"]\n",
    "\n",
    "\n",
    "figure = gmaps.figure()\n",
    "figure.add_layer(gmaps.heatmap_layer(locations, weights = weights, max_intensity = weights.max(), point_radius = 10))\n",
    "\n",
    "figure\n"
   ]
  },
  {
   "cell_type": "markdown",
   "metadata": {},
   "source": [
    "### Create new DataFrame fitting weather criteria\n",
    "* Narrow down the cities to fit weather conditions.\n",
    "* Drop any rows will null values."
   ]
  },
  {
   "cell_type": "code",
   "execution_count": null,
   "metadata": {},
   "outputs": [],
   "source": [
    "hotel_df = clean_city_df[clean_city_df[\"Cloudiness\"] == 0][clean_city_df[\"Wind Speed (mph)\"] < 10][clean_city_df[\"Temp(F)\"] > 60][clean_city_df[\"Temp(F)\"] < 75]\n",
    "hotel_df = hotel_df.reset_index(drop=True)\n",
    "hotel_df = hotel_df.drop(index = 24)\n",
    "hotel_df"
   ]
  },
  {
   "cell_type": "markdown",
   "metadata": {},
   "source": [
    "### Hotel Map\n",
    "* Store into variable named `hotel_df`.\n",
    "* Add a \"Hotel Name\" column to the DataFrame.\n",
    "* Set parameters to search for hotels with 5000 meters.\n",
    "* Hit the Google Places API for each city's coordinates.\n",
    "* Store the first Hotel result into the DataFrame.\n",
    "* Plot markers on top of the heatmap."
   ]
  },
  {
   "cell_type": "code",
   "execution_count": null,
   "metadata": {},
   "outputs": [],
   "source": [
    "\n",
    "hotel_locations = hotel_df[[\"Latitude\",\"Longitude\"]]\n",
    "latitudes = hotel_locations[\"Latitude\"].tolist()\n",
    "longitudes = hotel_locations[\"Longitude\"].tolist()\n",
    "hotel_latitude = []\n",
    "hotel_longitude = []\n",
    "hotel_list = hotel_df[\"City\"].tolist()\n",
    "hotel_name = []\n",
    "count = 0\n",
    "params = {\n",
    "            \"location\": f\"{latitudes[count]},{longitudes[count]}\",\n",
    "            \"keyword\": \"hotel\",\n",
    "            \"type\": \"hotel\",\n",
    "            \"radius\": 5000,\n",
    "            \"key\": g_key\n",
    "        }\n",
    "\n",
    "for name in hotel_list:\n",
    "    try:\n",
    "        params = {\n",
    "            \"location\": f\"{latitudes[count]},{longitudes[count]}\",\n",
    "            \"keyword\": \"hotel\",\n",
    "            \"type\": \"hotel\",\n",
    "            \"radius\": 5000,\n",
    "            \"key\": g_key\n",
    "        }\n",
    "        base_url = \"https://maps.googleapis.com/maps/api/place/nearbysearch/json\"\n",
    "        count += 1\n",
    "        response = requests.get(base_url, params=params)\n",
    "        hotel_data = response.json()\n",
    "        hotel_name.append(hotel_data[\"results\"][0][\"name\"])\n",
    "        hotel_latitude.append(hotel_data[\"results\"][0][\"geometry\"][\"location\"][\"lat\"])\n",
    "        hotel_longitude.append(hotel_data[\"results\"][0][\"geometry\"][\"location\"][\"lng\"])\n",
    "    except:\n",
    "        hotel_df = hotel_df.drop(index = count)\n"
   ]
  },
  {
   "cell_type": "code",
   "execution_count": null,
   "metadata": {},
   "outputs": [],
   "source": [
    "hotel_df[\"Hotel Name\"] = hotel_name\n",
    "\n",
    "hotel_df[\"Latitude\"] = hotel_latitude\n",
    "hotel_df[\"Longitude\"] = hotel_longitude\n",
    "hotel_df"
   ]
  },
  {
   "cell_type": "code",
   "execution_count": null,
   "metadata": {},
   "outputs": [],
   "source": [
    "# NOTE: Do not change any of the code in this cell\n",
    "\n",
    "# Using the template add the hotel marks to the heatmap\n",
    "info_box_template = \"\"\"\n",
    "<dl>\n",
    "<dt>Name</dt><dd>{Hotel Name}</dd>\n",
    "<dt>City</dt><dd>{City}</dd>\n",
    "<dt>Country</dt><dd>{Country}</dd>\n",
    "</dl>\n",
    "\"\"\"\n",
    "# Store the DataFrame Row\n",
    "# NOTE: be sure to update with your DataFrame name\n",
    "hotel_info = [info_box_template.format(**row) for index, row in hotel_df.iterrows()]\n",
    "hotel_filtered_locations = hotel_df[[\"Latitude\", \"Longitude\"]]"
   ]
  },
  {
   "cell_type": "code",
   "execution_count": null,
   "metadata": {},
   "outputs": [],
   "source": [
    "# Add marker layer ontop of heat map\n",
    "marker_layer = gmaps.marker_layer(hotel_filtered_locations, info_box_content=hotel_info)\n",
    "figure.add_layer(marker_layer)\n",
    "\n",
    "# Display figure\n",
    "figure"
   ]
  },
  {
   "cell_type": "code",
   "execution_count": null,
   "metadata": {},
   "outputs": [],
   "source": []
  }
 ],
 "metadata": {
  "kernelspec": {
   "display_name": "Python 3.9.12 ('base')",
   "language": "python",
   "name": "python3"
  },
  "language_info": {
   "codemirror_mode": {
    "name": "ipython",
    "version": 3
   },
   "file_extension": ".py",
   "mimetype": "text/x-python",
   "name": "python",
   "nbconvert_exporter": "python",
   "pygments_lexer": "ipython3",
   "version": "3.9.12"
  },
  "latex_envs": {
   "LaTeX_envs_menu_present": true,
   "autoclose": false,
   "autocomplete": true,
   "bibliofile": "biblio.bib",
   "cite_by": "apalike",
   "current_citInitial": 1,
   "eqLabelWithNumbers": true,
   "eqNumInitial": 1,
   "hotkeys": {
    "equation": "Ctrl-E",
    "itemize": "Ctrl-I"
   },
   "labels_anchors": false,
   "latex_user_defs": false,
   "report_style_numbering": false,
   "user_envs_cfg": false
  },
  "vscode": {
   "interpreter": {
    "hash": "6f5583cf1d9466b5c27e75c89cc6b383bed5736d6b16c51c8074d8690011a952"
   }
  }
 },
 "nbformat": 4,
 "nbformat_minor": 4
}
